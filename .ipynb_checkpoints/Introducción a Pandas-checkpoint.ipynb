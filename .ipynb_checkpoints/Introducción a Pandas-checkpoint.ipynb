{
 "cells": [
  {
   "cell_type": "markdown",
   "id": "bd685032",
   "metadata": {},
   "source": [
    "# Introducción a Pandas\n",
    "\n",
    "En este notebook doy los primeros pasos para entender el funcionamiento de la biblioteca _Pandas_. \n",
    "\n",
    "NB hecho por **Nico Quijada**"
   ]
  },
  {
   "cell_type": "code",
   "execution_count": 1,
   "id": "6cf367dd",
   "metadata": {},
   "outputs": [],
   "source": [
    "import pandas as pd\n",
    "import numpy as np"
   ]
  },
  {
   "cell_type": "markdown",
   "id": "8a510494",
   "metadata": {},
   "source": [
    "_Series_ es una estructura de datos. En este caso guardamos un solo tipo de número. "
   ]
  },
  {
   "cell_type": "code",
   "execution_count": 2,
   "id": "e75a1eba",
   "metadata": {},
   "outputs": [],
   "source": [
    "#La primera estructura de datos\n",
    "\n",
    "una_serie = pd.Series([10, 20, 12, 0.4])"
   ]
  },
  {
   "cell_type": "markdown",
   "id": "2e210690",
   "metadata": {},
   "source": [
    "Tiene propiedad _nombre_"
   ]
  },
  {
   "cell_type": "code",
   "execution_count": 3,
   "id": "ff1192f1",
   "metadata": {},
   "outputs": [],
   "source": [
    "una_serie.name = \"Una serie\""
   ]
  },
  {
   "cell_type": "markdown",
   "id": "7f7801fa",
   "metadata": {},
   "source": [
    "El tipo de datos que estamos guardando"
   ]
  },
  {
   "cell_type": "code",
   "execution_count": 4,
   "id": "0ef9f0bc",
   "metadata": {},
   "outputs": [
    {
     "data": {
      "text/plain": [
       "dtype('float64')"
      ]
     },
     "execution_count": 4,
     "metadata": {},
     "output_type": "execute_result"
    }
   ],
   "source": [
    "una_serie.dtype"
   ]
  },
  {
   "cell_type": "markdown",
   "id": "2658a622",
   "metadata": {},
   "source": [
    "Podemos imprimir los valores"
   ]
  },
  {
   "cell_type": "code",
   "execution_count": 5,
   "id": "829a77b0",
   "metadata": {},
   "outputs": [
    {
     "data": {
      "text/plain": [
       "array([10. , 20. , 12. ,  0.4])"
      ]
     },
     "execution_count": 5,
     "metadata": {},
     "output_type": "execute_result"
    }
   ],
   "source": [
    "una_serie.values"
   ]
  },
  {
   "cell_type": "code",
   "execution_count": 6,
   "id": "2494e814",
   "metadata": {},
   "outputs": [
    {
     "data": {
      "text/plain": [
       "0    10.0\n",
       "1    20.0\n",
       "2    12.0\n",
       "3     0.4\n",
       "Name: Una serie, dtype: float64"
      ]
     },
     "execution_count": 6,
     "metadata": {},
     "output_type": "execute_result"
    }
   ],
   "source": [
    "una_serie"
   ]
  },
  {
   "cell_type": "markdown",
   "id": "b899fccc",
   "metadata": {},
   "source": [
    "Tenemos índices"
   ]
  },
  {
   "cell_type": "code",
   "execution_count": 7,
   "id": "67630623",
   "metadata": {},
   "outputs": [
    {
     "data": {
      "text/plain": [
       "20.0"
      ]
     },
     "execution_count": 7,
     "metadata": {},
     "output_type": "execute_result"
    }
   ],
   "source": [
    "una_serie[1]"
   ]
  },
  {
   "cell_type": "markdown",
   "id": "cc349451",
   "metadata": {},
   "source": [
    "Podemos modificar de manera arbitraria cuáles son los índices:"
   ]
  },
  {
   "cell_type": "code",
   "execution_count": 8,
   "id": "c8e82f94",
   "metadata": {},
   "outputs": [],
   "source": [
    "una_serie.index = [\n",
    "    \"Primero\",\n",
    "    \"Segundo\",\n",
    "    \"Tercero\",\n",
    "    \"Cuarto\"\n",
    "]"
   ]
  },
  {
   "cell_type": "code",
   "execution_count": 9,
   "id": "25398ec5",
   "metadata": {},
   "outputs": [
    {
     "data": {
      "text/plain": [
       "Primero    10.0\n",
       "Segundo    20.0\n",
       "Tercero    12.0\n",
       "Cuarto      0.4\n",
       "Name: Una serie, dtype: float64"
      ]
     },
     "execution_count": 9,
     "metadata": {},
     "output_type": "execute_result"
    }
   ],
   "source": [
    "una_serie"
   ]
  },
  {
   "cell_type": "markdown",
   "id": "074d58c5",
   "metadata": {},
   "source": [
    "Aunque parece un diccionario, no lo es. Esta estructura de datos sí está ordenada y tenemos la ventaja de tener _keys_ para las entradas. Más aún, podemos crearlo desde el inicio y de manera directa."
   ]
  },
  {
   "cell_type": "code",
   "execution_count": 11,
   "id": "349680d9",
   "metadata": {},
   "outputs": [],
   "source": [
    "otra = pd.Series({\"Yo\": 1, \"Tú\": 2, \"Él\": 3}, name = \"Tres pronombres\")"
   ]
  },
  {
   "cell_type": "code",
   "execution_count": 12,
   "id": "d919ca2f",
   "metadata": {},
   "outputs": [
    {
     "name": "stdout",
     "output_type": "stream",
     "text": [
      "Yo    1\n",
      "Tú    2\n",
      "Él    3\n",
      "Name: Tres pronombres, dtype: int64\n"
     ]
    }
   ],
   "source": [
    "print(otra)"
   ]
  },
  {
   "cell_type": "code",
   "execution_count": 13,
   "id": "2d00c25e",
   "metadata": {},
   "outputs": [],
   "source": [
    "mas = pd.Series([\"esta\", \"es\", \"una\", \"oración\"], index = [1, 2, 3, 4], name = \"Oración\")"
   ]
  },
  {
   "cell_type": "code",
   "execution_count": 14,
   "id": "17a656d5",
   "metadata": {},
   "outputs": [
    {
     "name": "stdout",
     "output_type": "stream",
     "text": [
      "1       esta\n",
      "2         es\n",
      "3        una\n",
      "4    oración\n",
      "Name: Oración, dtype: object\n"
     ]
    }
   ],
   "source": [
    "print(mas)"
   ]
  },
  {
   "cell_type": "code",
   "execution_count": 16,
   "id": "2d323c41",
   "metadata": {},
   "outputs": [
    {
     "data": {
      "text/plain": [
       "'esta'"
      ]
     },
     "execution_count": 16,
     "metadata": {},
     "output_type": "execute_result"
    }
   ],
   "source": [
    "mas[1]"
   ]
  },
  {
   "cell_type": "markdown",
   "id": "8450b494",
   "metadata": {},
   "source": [
    "Podemos obtener los elementos de acuerdo con su ubicación en el objeto. También podemos pasar múltiples índices o locaciones."
   ]
  },
  {
   "cell_type": "code",
   "execution_count": 19,
   "id": "1b881689",
   "metadata": {},
   "outputs": [
    {
     "data": {
      "text/plain": [
       "4    oración\n",
       "1       esta\n",
       "Name: Oración, dtype: object"
      ]
     },
     "execution_count": 19,
     "metadata": {},
     "output_type": "execute_result"
    }
   ],
   "source": [
    "mas.iloc[[-1, 0]]"
   ]
  },
  {
   "cell_type": "markdown",
   "id": "4bf995e4",
   "metadata": {},
   "source": [
    "Con pandas también podemos cortar nuestros objetos pero aquí _sí_ consideramos el límite superior de nuestra serie."
   ]
  },
  {
   "cell_type": "code",
   "execution_count": 28,
   "id": "2a6f6166",
   "metadata": {},
   "outputs": [
    {
     "data": {
      "text/plain": [
       "Yo    1\n",
       "Tú    2\n",
       "Él    3\n",
       "Name: Tres pronombres, dtype: int64"
      ]
     },
     "execution_count": 28,
     "metadata": {},
     "output_type": "execute_result"
    }
   ],
   "source": [
    "otra[\"Yo\": \"Él\"]"
   ]
  },
  {
   "cell_type": "markdown",
   "id": "bd60157f",
   "metadata": {},
   "source": [
    "Podemos realizar operaciones sobre las series"
   ]
  },
  {
   "cell_type": "code",
   "execution_count": 30,
   "id": "5deddd3f",
   "metadata": {},
   "outputs": [],
   "source": [
    "#Definimos una serie de millones de habitantes\n",
    "\n",
    "g7_pop = pd.Series({\"Canada\": 35.467, \n",
    "                    \"Francia\": 63.951, \n",
    "                    \"Alemania\": 80.940, \n",
    "                    \"Italia\": 60.665, \n",
    "                    \"Japón\": 127.061, \n",
    "                    \"Reino Unido\": 64.511, \n",
    "                    \"Estados Unidos\": 318.523}, \n",
    "                     name = \"Poblaciones del G7 en millones\")"
   ]
  },
  {
   "cell_type": "markdown",
   "id": "d8c86602",
   "metadata": {},
   "source": [
    "Multiplicamos por un millón"
   ]
  },
  {
   "cell_type": "code",
   "execution_count": 31,
   "id": "22e961f8",
   "metadata": {},
   "outputs": [
    {
     "data": {
      "text/plain": [
       "Canada             35467000.0\n",
       "Francia            63951000.0\n",
       "Alemania           80940000.0\n",
       "Italia             60665000.0\n",
       "Japón             127061000.0\n",
       "Reino Unido        64511000.0\n",
       "Estados Unidos    318523000.0\n",
       "Name: Poblaciones del G7 en millones, dtype: float64"
      ]
     },
     "execution_count": 31,
     "metadata": {},
     "output_type": "execute_result"
    }
   ],
   "source": [
    "g7_pop * 1_000_000"
   ]
  },
  {
   "cell_type": "markdown",
   "id": "27d92f7e",
   "metadata": {},
   "source": [
    "## Operaciones booleanas"
   ]
  },
  {
   "cell_type": "code",
   "execution_count": 33,
   "id": "47768e4c",
   "metadata": {},
   "outputs": [
    {
     "data": {
      "text/plain": [
       "Canada            False\n",
       "Francia           False\n",
       "Alemania           True\n",
       "Italia            False\n",
       "Japón              True\n",
       "Reino Unido       False\n",
       "Estados Unidos     True\n",
       "Name: Poblaciones del G7 en millones, dtype: bool"
      ]
     },
     "execution_count": 33,
     "metadata": {},
     "output_type": "execute_result"
    }
   ],
   "source": [
    "g7_pop > 70\n",
    "\n",
    "#Obtenemos cuáles son los países que tienen más de 70 millones de habitantes"
   ]
  },
  {
   "cell_type": "code",
   "execution_count": 34,
   "id": "60093f94",
   "metadata": {},
   "outputs": [
    {
     "data": {
      "text/plain": [
       "Alemania           80.940\n",
       "Japón             127.061\n",
       "Estados Unidos    318.523\n",
       "Name: Poblaciones del G7 en millones, dtype: float64"
      ]
     },
     "execution_count": 34,
     "metadata": {},
     "output_type": "execute_result"
    }
   ],
   "source": [
    "#Podemos seleccionar con booleanos\n",
    "\n",
    "g7_pop[g7_pop > 70]"
   ]
  },
  {
   "cell_type": "code",
   "execution_count": 35,
   "id": "2d4245ca",
   "metadata": {},
   "outputs": [
    {
     "data": {
      "text/plain": [
       "107.30257142857144"
      ]
     },
     "execution_count": 35,
     "metadata": {},
     "output_type": "execute_result"
    }
   ],
   "source": [
    "g7_pop.mean()"
   ]
  },
  {
   "cell_type": "code",
   "execution_count": 36,
   "id": "7fefac3d",
   "metadata": {
    "scrolled": true
   },
   "outputs": [
    {
     "data": {
      "text/plain": [
       "Alemania           80.940\n",
       "Japón             127.061\n",
       "Estados Unidos    318.523\n",
       "Name: Poblaciones del G7 en millones, dtype: float64"
      ]
     },
     "execution_count": 36,
     "metadata": {},
     "output_type": "execute_result"
    }
   ],
   "source": [
    "g7_pop[g7_pop > 70]"
   ]
  },
  {
   "cell_type": "markdown",
   "id": "03ce5edc",
   "metadata": {},
   "source": [
    "Tenemos operadores booleanos:\n",
    "\n",
    "- ~ significa _no_\n",
    "- | significa _o_\n",
    "- & significa _y_"
   ]
  },
  {
   "cell_type": "code",
   "execution_count": 39,
   "id": "4a1278f0",
   "metadata": {},
   "outputs": [
    {
     "data": {
      "text/plain": [
       "Canada             35.467\n",
       "Japón             127.061\n",
       "Estados Unidos    318.523\n",
       "Name: Poblaciones del G7 en millones, dtype: float64"
      ]
     },
     "execution_count": 39,
     "metadata": {},
     "output_type": "execute_result"
    }
   ],
   "source": [
    "g7_pop[(g7_pop > g7_pop.mean()) | (g7_pop < g7_pop.mean()/2)]\n",
    "\n",
    "#Esta celda nos da cuáles son los países que quedan por encima de la media o bien, que quedan por debajo de la mitad \n",
    "#de la media"
   ]
  },
  {
   "cell_type": "markdown",
   "id": "5cb845a6",
   "metadata": {},
   "source": [
    "## Operaciones\n",
    "\n",
    "También podemos realizar operaciones sobre los datos \n",
    "\n",
    "media, logaritmo, desviación estándar y otras funciones tradicionales de numpy"
   ]
  },
  {
   "cell_type": "code",
   "execution_count": 41,
   "id": "1d51cf6a",
   "metadata": {},
   "outputs": [],
   "source": [
    "#También podemos modificar las series\n",
    "\n",
    "g7_pop[\"Canada\"] = 40.5\n",
    "g7_pop.iloc[-1] = 500"
   ]
  },
  {
   "cell_type": "code",
   "execution_count": 42,
   "id": "e44decae",
   "metadata": {},
   "outputs": [
    {
     "data": {
      "text/plain": [
       "Canada             40.500\n",
       "Francia            63.951\n",
       "Alemania           80.940\n",
       "Italia             60.665\n",
       "Japón             127.061\n",
       "Reino Unido        64.511\n",
       "Estados Unidos    500.000\n",
       "Name: Poblaciones del G7 en millones, dtype: float64"
      ]
     },
     "execution_count": 42,
     "metadata": {},
     "output_type": "execute_result"
    }
   ],
   "source": [
    "g7_pop"
   ]
  },
  {
   "cell_type": "code",
   "execution_count": 45,
   "id": "5cf260bc",
   "metadata": {},
   "outputs": [],
   "source": [
    "g7_pop[g7_pop < 70] = 99.99\n",
    "\n",
    "#También podemos modificar los valores utilizando los booleanos"
   ]
  },
  {
   "cell_type": "code",
   "execution_count": 44,
   "id": "e5a9b2e0",
   "metadata": {},
   "outputs": [
    {
     "data": {
      "text/plain": [
       "Canada             99.990\n",
       "Francia            99.990\n",
       "Alemania           80.940\n",
       "Italia             99.990\n",
       "Japón             127.061\n",
       "Reino Unido        99.990\n",
       "Estados Unidos    500.000\n",
       "Name: Poblaciones del G7 en millones, dtype: float64"
      ]
     },
     "execution_count": 44,
     "metadata": {},
     "output_type": "execute_result"
    }
   ],
   "source": [
    "g7_pop"
   ]
  }
 ],
 "metadata": {
  "kernelspec": {
   "display_name": "Python 3 (ipykernel)",
   "language": "python",
   "name": "python3"
  },
  "language_info": {
   "codemirror_mode": {
    "name": "ipython",
    "version": 3
   },
   "file_extension": ".py",
   "mimetype": "text/x-python",
   "name": "python",
   "nbconvert_exporter": "python",
   "pygments_lexer": "ipython3",
   "version": "3.9.13"
  }
 },
 "nbformat": 4,
 "nbformat_minor": 5
}
