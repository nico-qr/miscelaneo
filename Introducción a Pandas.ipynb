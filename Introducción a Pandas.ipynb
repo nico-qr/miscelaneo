{
 "cells": [
  {
   "cell_type": "markdown",
   "id": "bd685032",
   "metadata": {},
   "source": [
    "# Introducción a Pandas\n",
    "\n",
    "En este notebook doy los primeros pasos para entender el funcionamiento de la biblioteca _Pandas_. \n",
    "\n",
    "NB hecho por **Nico Quijada**"
   ]
  },
  {
   "cell_type": "code",
   "execution_count": 2,
   "id": "6cf367dd",
   "metadata": {},
   "outputs": [],
   "source": [
    "import pandas as pd\n",
    "import numpy as np"
   ]
  },
  {
   "cell_type": "markdown",
   "id": "8a510494",
   "metadata": {},
   "source": [
    "_Series_ es una estructura de datos. En este caso guardamos un solo tipo de número. "
   ]
  },
  {
   "cell_type": "code",
   "execution_count": 2,
   "id": "e75a1eba",
   "metadata": {},
   "outputs": [],
   "source": [
    "#La primera estructura de datos\n",
    "\n",
    "una_serie = pd.Series([10, 20, 12, 0.4])"
   ]
  },
  {
   "cell_type": "markdown",
   "id": "2e210690",
   "metadata": {},
   "source": [
    "Tiene propiedad _nombre_"
   ]
  },
  {
   "cell_type": "code",
   "execution_count": 3,
   "id": "ff1192f1",
   "metadata": {},
   "outputs": [],
   "source": [
    "una_serie.name = \"Una serie\""
   ]
  },
  {
   "cell_type": "markdown",
   "id": "7f7801fa",
   "metadata": {},
   "source": [
    "El tipo de datos que estamos guardando"
   ]
  },
  {
   "cell_type": "code",
   "execution_count": 4,
   "id": "0ef9f0bc",
   "metadata": {},
   "outputs": [
    {
     "data": {
      "text/plain": [
       "dtype('float64')"
      ]
     },
     "execution_count": 4,
     "metadata": {},
     "output_type": "execute_result"
    }
   ],
   "source": [
    "una_serie.dtype"
   ]
  },
  {
   "cell_type": "markdown",
   "id": "2658a622",
   "metadata": {},
   "source": [
    "Podemos imprimir los valores"
   ]
  },
  {
   "cell_type": "code",
   "execution_count": 5,
   "id": "829a77b0",
   "metadata": {},
   "outputs": [
    {
     "data": {
      "text/plain": [
       "array([10. , 20. , 12. ,  0.4])"
      ]
     },
     "execution_count": 5,
     "metadata": {},
     "output_type": "execute_result"
    }
   ],
   "source": [
    "una_serie.values"
   ]
  },
  {
   "cell_type": "code",
   "execution_count": 6,
   "id": "2494e814",
   "metadata": {},
   "outputs": [
    {
     "data": {
      "text/plain": [
       "0    10.0\n",
       "1    20.0\n",
       "2    12.0\n",
       "3     0.4\n",
       "Name: Una serie, dtype: float64"
      ]
     },
     "execution_count": 6,
     "metadata": {},
     "output_type": "execute_result"
    }
   ],
   "source": [
    "una_serie"
   ]
  },
  {
   "cell_type": "markdown",
   "id": "b899fccc",
   "metadata": {},
   "source": [
    "Tenemos índices"
   ]
  },
  {
   "cell_type": "code",
   "execution_count": 7,
   "id": "67630623",
   "metadata": {},
   "outputs": [
    {
     "data": {
      "text/plain": [
       "20.0"
      ]
     },
     "execution_count": 7,
     "metadata": {},
     "output_type": "execute_result"
    }
   ],
   "source": [
    "una_serie[1]"
   ]
  },
  {
   "cell_type": "markdown",
   "id": "cc349451",
   "metadata": {},
   "source": [
    "Podemos modificar de manera arbitraria cuáles son los índices:"
   ]
  },
  {
   "cell_type": "code",
   "execution_count": 8,
   "id": "c8e82f94",
   "metadata": {},
   "outputs": [],
   "source": [
    "una_serie.index = [\n",
    "    \"Primero\",\n",
    "    \"Segundo\",\n",
    "    \"Tercero\",\n",
    "    \"Cuarto\"\n",
    "]"
   ]
  },
  {
   "cell_type": "code",
   "execution_count": 9,
   "id": "25398ec5",
   "metadata": {},
   "outputs": [
    {
     "data": {
      "text/plain": [
       "Primero    10.0\n",
       "Segundo    20.0\n",
       "Tercero    12.0\n",
       "Cuarto      0.4\n",
       "Name: Una serie, dtype: float64"
      ]
     },
     "execution_count": 9,
     "metadata": {},
     "output_type": "execute_result"
    }
   ],
   "source": [
    "una_serie"
   ]
  },
  {
   "cell_type": "markdown",
   "id": "074d58c5",
   "metadata": {},
   "source": [
    "Aunque parece un diccionario, no lo es. Esta estructura de datos sí está ordenada y tenemos la ventaja de tener _keys_ para las entradas. Más aún, podemos crearlo desde el inicio y de manera directa."
   ]
  },
  {
   "cell_type": "code",
   "execution_count": 11,
   "id": "349680d9",
   "metadata": {},
   "outputs": [],
   "source": [
    "otra = pd.Series({\"Yo\": 1, \"Tú\": 2, \"Él\": 3}, name = \"Tres pronombres\")"
   ]
  },
  {
   "cell_type": "code",
   "execution_count": 12,
   "id": "d919ca2f",
   "metadata": {},
   "outputs": [
    {
     "name": "stdout",
     "output_type": "stream",
     "text": [
      "Yo    1\n",
      "Tú    2\n",
      "Él    3\n",
      "Name: Tres pronombres, dtype: int64\n"
     ]
    }
   ],
   "source": [
    "print(otra)"
   ]
  },
  {
   "cell_type": "code",
   "execution_count": 13,
   "id": "2d00c25e",
   "metadata": {},
   "outputs": [],
   "source": [
    "mas = pd.Series([\"esta\", \"es\", \"una\", \"oración\"], index = [1, 2, 3, 4], name = \"Oración\")"
   ]
  },
  {
   "cell_type": "code",
   "execution_count": 14,
   "id": "17a656d5",
   "metadata": {},
   "outputs": [
    {
     "name": "stdout",
     "output_type": "stream",
     "text": [
      "1       esta\n",
      "2         es\n",
      "3        una\n",
      "4    oración\n",
      "Name: Oración, dtype: object\n"
     ]
    }
   ],
   "source": [
    "print(mas)"
   ]
  },
  {
   "cell_type": "code",
   "execution_count": 16,
   "id": "2d323c41",
   "metadata": {},
   "outputs": [
    {
     "data": {
      "text/plain": [
       "'esta'"
      ]
     },
     "execution_count": 16,
     "metadata": {},
     "output_type": "execute_result"
    }
   ],
   "source": [
    "mas[1]"
   ]
  },
  {
   "cell_type": "markdown",
   "id": "8450b494",
   "metadata": {},
   "source": [
    "Podemos obtener los elementos de acuerdo con su ubicación en el objeto. También podemos pasar múltiples índices o locaciones."
   ]
  },
  {
   "cell_type": "code",
   "execution_count": 19,
   "id": "1b881689",
   "metadata": {},
   "outputs": [
    {
     "data": {
      "text/plain": [
       "4    oración\n",
       "1       esta\n",
       "Name: Oración, dtype: object"
      ]
     },
     "execution_count": 19,
     "metadata": {},
     "output_type": "execute_result"
    }
   ],
   "source": [
    "mas.iloc[[-1, 0]]"
   ]
  },
  {
   "cell_type": "markdown",
   "id": "4bf995e4",
   "metadata": {},
   "source": [
    "Con pandas también podemos cortar nuestros objetos pero aquí _sí_ consideramos el límite superior de nuestra serie."
   ]
  },
  {
   "cell_type": "code",
   "execution_count": 28,
   "id": "2a6f6166",
   "metadata": {},
   "outputs": [
    {
     "data": {
      "text/plain": [
       "Yo    1\n",
       "Tú    2\n",
       "Él    3\n",
       "Name: Tres pronombres, dtype: int64"
      ]
     },
     "execution_count": 28,
     "metadata": {},
     "output_type": "execute_result"
    }
   ],
   "source": [
    "otra[\"Yo\": \"Él\"]"
   ]
  },
  {
   "cell_type": "markdown",
   "id": "bd60157f",
   "metadata": {},
   "source": [
    "Podemos realizar operaciones sobre las series"
   ]
  },
  {
   "cell_type": "code",
   "execution_count": 30,
   "id": "5deddd3f",
   "metadata": {},
   "outputs": [],
   "source": [
    "#Definimos una serie de millones de habitantes\n",
    "\n",
    "g7_pop = pd.Series({\"Canada\": 35.467, \n",
    "                    \"Francia\": 63.951, \n",
    "                    \"Alemania\": 80.940, \n",
    "                    \"Italia\": 60.665, \n",
    "                    \"Japón\": 127.061, \n",
    "                    \"Reino Unido\": 64.511, \n",
    "                    \"Estados Unidos\": 318.523}, \n",
    "                     name = \"Poblaciones del G7 en millones\")"
   ]
  },
  {
   "cell_type": "markdown",
   "id": "d8c86602",
   "metadata": {},
   "source": [
    "Multiplicamos por un millón"
   ]
  },
  {
   "cell_type": "code",
   "execution_count": 31,
   "id": "22e961f8",
   "metadata": {},
   "outputs": [
    {
     "data": {
      "text/plain": [
       "Canada             35467000.0\n",
       "Francia            63951000.0\n",
       "Alemania           80940000.0\n",
       "Italia             60665000.0\n",
       "Japón             127061000.0\n",
       "Reino Unido        64511000.0\n",
       "Estados Unidos    318523000.0\n",
       "Name: Poblaciones del G7 en millones, dtype: float64"
      ]
     },
     "execution_count": 31,
     "metadata": {},
     "output_type": "execute_result"
    }
   ],
   "source": [
    "g7_pop * 1_000_000"
   ]
  },
  {
   "cell_type": "markdown",
   "id": "27d92f7e",
   "metadata": {},
   "source": [
    "## Operaciones booleanas"
   ]
  },
  {
   "cell_type": "code",
   "execution_count": 33,
   "id": "47768e4c",
   "metadata": {},
   "outputs": [
    {
     "data": {
      "text/plain": [
       "Canada            False\n",
       "Francia           False\n",
       "Alemania           True\n",
       "Italia            False\n",
       "Japón              True\n",
       "Reino Unido       False\n",
       "Estados Unidos     True\n",
       "Name: Poblaciones del G7 en millones, dtype: bool"
      ]
     },
     "execution_count": 33,
     "metadata": {},
     "output_type": "execute_result"
    }
   ],
   "source": [
    "g7_pop > 70\n",
    "\n",
    "#Obtenemos cuáles son los países que tienen más de 70 millones de habitantes"
   ]
  },
  {
   "cell_type": "code",
   "execution_count": 34,
   "id": "60093f94",
   "metadata": {},
   "outputs": [
    {
     "data": {
      "text/plain": [
       "Alemania           80.940\n",
       "Japón             127.061\n",
       "Estados Unidos    318.523\n",
       "Name: Poblaciones del G7 en millones, dtype: float64"
      ]
     },
     "execution_count": 34,
     "metadata": {},
     "output_type": "execute_result"
    }
   ],
   "source": [
    "#Podemos seleccionar con booleanos\n",
    "\n",
    "g7_pop[g7_pop > 70]"
   ]
  },
  {
   "cell_type": "code",
   "execution_count": 35,
   "id": "2d4245ca",
   "metadata": {},
   "outputs": [
    {
     "data": {
      "text/plain": [
       "107.30257142857144"
      ]
     },
     "execution_count": 35,
     "metadata": {},
     "output_type": "execute_result"
    }
   ],
   "source": [
    "g7_pop.mean()"
   ]
  },
  {
   "cell_type": "code",
   "execution_count": 36,
   "id": "7fefac3d",
   "metadata": {
    "scrolled": true
   },
   "outputs": [
    {
     "data": {
      "text/plain": [
       "Alemania           80.940\n",
       "Japón             127.061\n",
       "Estados Unidos    318.523\n",
       "Name: Poblaciones del G7 en millones, dtype: float64"
      ]
     },
     "execution_count": 36,
     "metadata": {},
     "output_type": "execute_result"
    }
   ],
   "source": [
    "g7_pop[g7_pop > 70]"
   ]
  },
  {
   "cell_type": "markdown",
   "id": "03ce5edc",
   "metadata": {},
   "source": [
    "Tenemos operadores booleanos:\n",
    "\n",
    "- ~ significa _no_\n",
    "- | significa _o_\n",
    "- & significa _y_"
   ]
  },
  {
   "cell_type": "code",
   "execution_count": 39,
   "id": "4a1278f0",
   "metadata": {},
   "outputs": [
    {
     "data": {
      "text/plain": [
       "Canada             35.467\n",
       "Japón             127.061\n",
       "Estados Unidos    318.523\n",
       "Name: Poblaciones del G7 en millones, dtype: float64"
      ]
     },
     "execution_count": 39,
     "metadata": {},
     "output_type": "execute_result"
    }
   ],
   "source": [
    "g7_pop[(g7_pop > g7_pop.mean()) | (g7_pop < g7_pop.mean()/2)]\n",
    "\n",
    "#Esta celda nos da cuáles son los países que quedan por encima de la media o bien, que quedan por debajo de la mitad \n",
    "#de la media"
   ]
  },
  {
   "cell_type": "markdown",
   "id": "5cb845a6",
   "metadata": {},
   "source": [
    "## Operaciones\n",
    "\n",
    "También podemos realizar operaciones sobre los datos \n",
    "\n",
    "media, logaritmo, desviación estándar y otras funciones tradicionales de numpy"
   ]
  },
  {
   "cell_type": "code",
   "execution_count": 41,
   "id": "1d51cf6a",
   "metadata": {},
   "outputs": [],
   "source": [
    "#También podemos modificar las series\n",
    "\n",
    "g7_pop[\"Canada\"] = 40.5\n",
    "g7_pop.iloc[-1] = 500"
   ]
  },
  {
   "cell_type": "code",
   "execution_count": 42,
   "id": "e44decae",
   "metadata": {},
   "outputs": [
    {
     "data": {
      "text/plain": [
       "Canada             40.500\n",
       "Francia            63.951\n",
       "Alemania           80.940\n",
       "Italia             60.665\n",
       "Japón             127.061\n",
       "Reino Unido        64.511\n",
       "Estados Unidos    500.000\n",
       "Name: Poblaciones del G7 en millones, dtype: float64"
      ]
     },
     "execution_count": 42,
     "metadata": {},
     "output_type": "execute_result"
    }
   ],
   "source": [
    "g7_pop"
   ]
  },
  {
   "cell_type": "code",
   "execution_count": 45,
   "id": "5cf260bc",
   "metadata": {},
   "outputs": [],
   "source": [
    "g7_pop[g7_pop < 70] = 99.99\n",
    "\n",
    "#También podemos modificar los valores utilizando los booleanos"
   ]
  },
  {
   "cell_type": "code",
   "execution_count": 44,
   "id": "e5a9b2e0",
   "metadata": {},
   "outputs": [
    {
     "data": {
      "text/plain": [
       "Canada             99.990\n",
       "Francia            99.990\n",
       "Alemania           80.940\n",
       "Italia             99.990\n",
       "Japón             127.061\n",
       "Reino Unido        99.990\n",
       "Estados Unidos    500.000\n",
       "Name: Poblaciones del G7 en millones, dtype: float64"
      ]
     },
     "execution_count": 44,
     "metadata": {},
     "output_type": "execute_result"
    }
   ],
   "source": [
    "g7_pop"
   ]
  },
  {
   "cell_type": "markdown",
   "id": "90fca28c",
   "metadata": {},
   "source": [
    "## Dataframe\n",
    "\n",
    "Es básicamente lo mismo que un documento de excel. "
   ]
  },
  {
   "cell_type": "code",
   "execution_count": 27,
   "id": "9f4b8f2e",
   "metadata": {},
   "outputs": [],
   "source": [
    "#Definición de las columnas\n",
    "pob = [35.467, 63.951, 80.94, 60.665, 127.061, 64.511, 318.523]\n",
    "pib = [\n",
    "        1785387,\n",
    "        2833687,\n",
    "        3874437,\n",
    "        2167744,\n",
    "        4602367,\n",
    "        2950039,\n",
    "        17348075\n",
    "    ]\n",
    "sup = [\n",
    "        9984670,\n",
    "        640679,\n",
    "        357114,\n",
    "        301336,\n",
    "        377930,\n",
    "        242495,\n",
    "        9525067\n",
    "    ]\n",
    "idh = [\n",
    "        0.913,\n",
    "        0.888,\n",
    "        0.916,\n",
    "        0.873,\n",
    "        0.891,\n",
    "        0.907,\n",
    "        0.915\n",
    "    ]\n",
    "cont = [\"América\",\n",
    "        \"Europa\",\n",
    "        \"Europa\",\n",
    "        \"Europa\",\n",
    "        \"Asia\",\n",
    "        \"Europa\",\n",
    "        \"América\"]"
   ]
  },
  {
   "cell_type": "markdown",
   "id": "aaf40128",
   "metadata": {},
   "source": [
    "Creación del DataFrame"
   ]
  },
  {
   "cell_type": "code",
   "execution_count": 26,
   "id": "7bea3f30",
   "metadata": {},
   "outputs": [],
   "source": [
    "df = pd.DataFrame({\n",
    "    \"Población\": pob,\n",
    "    \"PIB\" : pib,\n",
    "    \"Superficie\" :sup,\n",
    "    \"IDH\": idh,\n",
    "    \"Continente\": cont\n",
    "}\n",
    ")"
   ]
  },
  {
   "cell_type": "code",
   "execution_count": 29,
   "id": "4eb27e6f",
   "metadata": {},
   "outputs": [
    {
     "name": "stdout",
     "output_type": "stream",
     "text": [
      "   Población       PIB  Superficie    IDH Continente\n",
      "0     35.467   1785387     9984670  0.913    América\n",
      "1     63.951   2833687      640679  0.888     Europa\n",
      "2     80.940   3874437      357114  0.916     Europa\n",
      "3     60.665   2167744      301336  0.873     Europa\n",
      "4    127.061   4602367      377930  0.891       Asia\n",
      "5     64.511   2950039      242495  0.907     Europa\n",
      "6    318.523  17348075     9525067  0.915    América\n"
     ]
    }
   ],
   "source": [
    "print(df)"
   ]
  },
  {
   "cell_type": "markdown",
   "id": "b88dfd93",
   "metadata": {},
   "source": [
    "Un dataframe puede ser pensado como una colección de series"
   ]
  },
  {
   "cell_type": "code",
   "execution_count": 30,
   "id": "808db807",
   "metadata": {},
   "outputs": [],
   "source": [
    "df.index = [\n",
    "    \"Canada\",\n",
    "    \"Francia\",\n",
    "    \"Alemania\",\n",
    "    \"Italia\",\n",
    "    \"Japón\",\n",
    "    \"Reino unido\",\n",
    "    \"Estados unidos\"\n",
    "    \n",
    "]"
   ]
  },
  {
   "cell_type": "code",
   "execution_count": 32,
   "id": "0a6a6d7a",
   "metadata": {},
   "outputs": [
    {
     "name": "stdout",
     "output_type": "stream",
     "text": [
      "Index(['Población', 'PIB', 'Superficie', 'IDH', 'Continente'], dtype='object')\n",
      "Index(['Canada', 'Francia', 'Alemania', 'Italia', 'Japón', 'Reino unido',\n",
      "       'Estados unidos'],\n",
      "      dtype='object')\n",
      "<class 'pandas.core.frame.DataFrame'>\n",
      "Index: 7 entries, Canada to Estados unidos\n",
      "Data columns (total 5 columns):\n",
      " #   Column      Non-Null Count  Dtype  \n",
      "---  ------      --------------  -----  \n",
      " 0   Población   7 non-null      float64\n",
      " 1   PIB         7 non-null      int64  \n",
      " 2   Superficie  7 non-null      int64  \n",
      " 3   IDH         7 non-null      float64\n",
      " 4   Continente  7 non-null      object \n",
      "dtypes: float64(2), int64(2), object(1)\n",
      "memory usage: 336.0+ bytes\n"
     ]
    }
   ],
   "source": [
    "print(df.columns)\n",
    "print(df.index)\n",
    "df.info()"
   ]
  },
  {
   "cell_type": "code",
   "execution_count": 33,
   "id": "4f420488",
   "metadata": {},
   "outputs": [
    {
     "data": {
      "text/plain": [
       "35"
      ]
     },
     "execution_count": 33,
     "metadata": {},
     "output_type": "execute_result"
    }
   ],
   "source": [
    "df.size"
   ]
  },
  {
   "cell_type": "code",
   "execution_count": 35,
   "id": "af1a18cc",
   "metadata": {},
   "outputs": [
    {
     "data": {
      "text/plain": [
       "(7, 5)"
      ]
     },
     "execution_count": 35,
     "metadata": {},
     "output_type": "execute_result"
    }
   ],
   "source": [
    "df.shape"
   ]
  },
  {
   "cell_type": "code",
   "execution_count": 38,
   "id": "a1f837de",
   "metadata": {},
   "outputs": [
    {
     "data": {
      "text/html": [
       "<div>\n",
       "<style scoped>\n",
       "    .dataframe tbody tr th:only-of-type {\n",
       "        vertical-align: middle;\n",
       "    }\n",
       "\n",
       "    .dataframe tbody tr th {\n",
       "        vertical-align: top;\n",
       "    }\n",
       "\n",
       "    .dataframe thead th {\n",
       "        text-align: right;\n",
       "    }\n",
       "</style>\n",
       "<table border=\"1\" class=\"dataframe\">\n",
       "  <thead>\n",
       "    <tr style=\"text-align: right;\">\n",
       "      <th></th>\n",
       "      <th>Población</th>\n",
       "      <th>PIB</th>\n",
       "      <th>Superficie</th>\n",
       "      <th>IDH</th>\n",
       "    </tr>\n",
       "  </thead>\n",
       "  <tbody>\n",
       "    <tr>\n",
       "      <th>count</th>\n",
       "      <td>7.000000</td>\n",
       "      <td>7.000000e+00</td>\n",
       "      <td>7.000000e+00</td>\n",
       "      <td>7.000000</td>\n",
       "    </tr>\n",
       "    <tr>\n",
       "      <th>mean</th>\n",
       "      <td>107.302571</td>\n",
       "      <td>5.080248e+06</td>\n",
       "      <td>3.061327e+06</td>\n",
       "      <td>0.900429</td>\n",
       "    </tr>\n",
       "    <tr>\n",
       "      <th>std</th>\n",
       "      <td>97.249970</td>\n",
       "      <td>5.494020e+06</td>\n",
       "      <td>4.576187e+06</td>\n",
       "      <td>0.016592</td>\n",
       "    </tr>\n",
       "    <tr>\n",
       "      <th>min</th>\n",
       "      <td>35.467000</td>\n",
       "      <td>1.785387e+06</td>\n",
       "      <td>2.424950e+05</td>\n",
       "      <td>0.873000</td>\n",
       "    </tr>\n",
       "    <tr>\n",
       "      <th>25%</th>\n",
       "      <td>62.308000</td>\n",
       "      <td>2.500716e+06</td>\n",
       "      <td>3.292250e+05</td>\n",
       "      <td>0.889500</td>\n",
       "    </tr>\n",
       "    <tr>\n",
       "      <th>50%</th>\n",
       "      <td>64.511000</td>\n",
       "      <td>2.950039e+06</td>\n",
       "      <td>3.779300e+05</td>\n",
       "      <td>0.907000</td>\n",
       "    </tr>\n",
       "    <tr>\n",
       "      <th>75%</th>\n",
       "      <td>104.000500</td>\n",
       "      <td>4.238402e+06</td>\n",
       "      <td>5.082873e+06</td>\n",
       "      <td>0.914000</td>\n",
       "    </tr>\n",
       "    <tr>\n",
       "      <th>max</th>\n",
       "      <td>318.523000</td>\n",
       "      <td>1.734808e+07</td>\n",
       "      <td>9.984670e+06</td>\n",
       "      <td>0.916000</td>\n",
       "    </tr>\n",
       "  </tbody>\n",
       "</table>\n",
       "</div>"
      ],
      "text/plain": [
       "        Población           PIB    Superficie       IDH\n",
       "count    7.000000  7.000000e+00  7.000000e+00  7.000000\n",
       "mean   107.302571  5.080248e+06  3.061327e+06  0.900429\n",
       "std     97.249970  5.494020e+06  4.576187e+06  0.016592\n",
       "min     35.467000  1.785387e+06  2.424950e+05  0.873000\n",
       "25%     62.308000  2.500716e+06  3.292250e+05  0.889500\n",
       "50%     64.511000  2.950039e+06  3.779300e+05  0.907000\n",
       "75%    104.000500  4.238402e+06  5.082873e+06  0.914000\n",
       "max    318.523000  1.734808e+07  9.984670e+06  0.916000"
      ]
     },
     "execution_count": 38,
     "metadata": {},
     "output_type": "execute_result"
    }
   ],
   "source": [
    "#Nos da un resumen por cada columna numérica. Los porcentajes son percentiles\n",
    "df.describe()"
   ]
  },
  {
   "cell_type": "code",
   "execution_count": 42,
   "id": "9edfa2a8",
   "metadata": {},
   "outputs": [
    {
     "data": {
      "text/plain": [
       "Población     float64\n",
       "PIB             int64\n",
       "Superficie      int64\n",
       "IDH           float64\n",
       "Continente     object\n",
       "dtype: object"
      ]
     },
     "execution_count": 42,
     "metadata": {},
     "output_type": "execute_result"
    }
   ],
   "source": [
    "df.dtypes"
   ]
  },
  {
   "cell_type": "code",
   "execution_count": 44,
   "id": "4f824313",
   "metadata": {},
   "outputs": [
    {
     "data": {
      "text/plain": [
       "float64    2\n",
       "int64      2\n",
       "object     1\n",
       "dtype: int64"
      ]
     },
     "execution_count": 44,
     "metadata": {},
     "output_type": "execute_result"
    }
   ],
   "source": [
    "#Nos da cuántas columnas de cada tipo de datos\n",
    "df.dtypes.value_counts()"
   ]
  },
  {
   "cell_type": "markdown",
   "id": "25376a15",
   "metadata": {},
   "source": [
    "## Slicing, indexing y selección"
   ]
  },
  {
   "cell_type": "code",
   "execution_count": 47,
   "id": "4154ac00",
   "metadata": {},
   "outputs": [
    {
     "data": {
      "text/plain": [
       "Población      35.467\n",
       "PIB           1785387\n",
       "Superficie    9984670\n",
       "IDH             0.913\n",
       "Continente    América\n",
       "Name: Canada, dtype: object"
      ]
     },
     "execution_count": 47,
     "metadata": {},
     "output_type": "execute_result"
    }
   ],
   "source": [
    "#Selección por filas\n",
    "df.loc[\"Canada\"]"
   ]
  },
  {
   "cell_type": "code",
   "execution_count": 48,
   "id": "a724b09c",
   "metadata": {},
   "outputs": [
    {
     "data": {
      "text/plain": [
       "Población      318.523\n",
       "PIB           17348075\n",
       "Superficie     9525067\n",
       "IDH              0.915\n",
       "Continente     América\n",
       "Name: Estados unidos, dtype: object"
      ]
     },
     "execution_count": 48,
     "metadata": {},
     "output_type": "execute_result"
    }
   ],
   "source": [
    "#Selección por posición\n",
    "df.iloc[-1]"
   ]
  },
  {
   "cell_type": "code",
   "execution_count": 54,
   "id": "4dbe6476",
   "metadata": {},
   "outputs": [
    {
     "name": "stdout",
     "output_type": "stream",
     "text": [
      "Canada             35.467\n",
      "Francia            63.951\n",
      "Alemania           80.940\n",
      "Italia             60.665\n",
      "Japón             127.061\n",
      "Reino unido        64.511\n",
      "Estados unidos    318.523\n",
      "Name: Población, dtype: float64 <class 'pandas.core.series.Series'>\n"
     ]
    }
   ],
   "source": [
    "#Selección por columna\n",
    "res = df[\"Población\"]\n",
    "print(res, type(res))"
   ]
  },
  {
   "cell_type": "code",
   "execution_count": 55,
   "id": "57368a10",
   "metadata": {},
   "outputs": [
    {
     "data": {
      "text/html": [
       "<div>\n",
       "<style scoped>\n",
       "    .dataframe tbody tr th:only-of-type {\n",
       "        vertical-align: middle;\n",
       "    }\n",
       "\n",
       "    .dataframe tbody tr th {\n",
       "        vertical-align: top;\n",
       "    }\n",
       "\n",
       "    .dataframe thead th {\n",
       "        text-align: right;\n",
       "    }\n",
       "</style>\n",
       "<table border=\"1\" class=\"dataframe\">\n",
       "  <thead>\n",
       "    <tr style=\"text-align: right;\">\n",
       "      <th></th>\n",
       "      <th>Población</th>\n",
       "    </tr>\n",
       "  </thead>\n",
       "  <tbody>\n",
       "    <tr>\n",
       "      <th>Canada</th>\n",
       "      <td>35.467</td>\n",
       "    </tr>\n",
       "    <tr>\n",
       "      <th>Francia</th>\n",
       "      <td>63.951</td>\n",
       "    </tr>\n",
       "    <tr>\n",
       "      <th>Alemania</th>\n",
       "      <td>80.940</td>\n",
       "    </tr>\n",
       "    <tr>\n",
       "      <th>Italia</th>\n",
       "      <td>60.665</td>\n",
       "    </tr>\n",
       "    <tr>\n",
       "      <th>Japón</th>\n",
       "      <td>127.061</td>\n",
       "    </tr>\n",
       "    <tr>\n",
       "      <th>Reino unido</th>\n",
       "      <td>64.511</td>\n",
       "    </tr>\n",
       "    <tr>\n",
       "      <th>Estados unidos</th>\n",
       "      <td>318.523</td>\n",
       "    </tr>\n",
       "  </tbody>\n",
       "</table>\n",
       "</div>"
      ],
      "text/plain": [
       "                Población\n",
       "Canada             35.467\n",
       "Francia            63.951\n",
       "Alemania           80.940\n",
       "Italia             60.665\n",
       "Japón             127.061\n",
       "Reino unido        64.511\n",
       "Estados unidos    318.523"
      ]
     },
     "execution_count": 55,
     "metadata": {},
     "output_type": "execute_result"
    }
   ],
   "source": [
    "#La serie puede ser presentada como un DataFrame\n",
    "res.to_frame()"
   ]
  },
  {
   "cell_type": "code",
   "execution_count": 56,
   "id": "2623b794",
   "metadata": {},
   "outputs": [
    {
     "data": {
      "text/html": [
       "<div>\n",
       "<style scoped>\n",
       "    .dataframe tbody tr th:only-of-type {\n",
       "        vertical-align: middle;\n",
       "    }\n",
       "\n",
       "    .dataframe tbody tr th {\n",
       "        vertical-align: top;\n",
       "    }\n",
       "\n",
       "    .dataframe thead th {\n",
       "        text-align: right;\n",
       "    }\n",
       "</style>\n",
       "<table border=\"1\" class=\"dataframe\">\n",
       "  <thead>\n",
       "    <tr style=\"text-align: right;\">\n",
       "      <th></th>\n",
       "      <th>Población</th>\n",
       "      <th>IDH</th>\n",
       "    </tr>\n",
       "  </thead>\n",
       "  <tbody>\n",
       "    <tr>\n",
       "      <th>Canada</th>\n",
       "      <td>35.467</td>\n",
       "      <td>0.913</td>\n",
       "    </tr>\n",
       "    <tr>\n",
       "      <th>Francia</th>\n",
       "      <td>63.951</td>\n",
       "      <td>0.888</td>\n",
       "    </tr>\n",
       "    <tr>\n",
       "      <th>Alemania</th>\n",
       "      <td>80.940</td>\n",
       "      <td>0.916</td>\n",
       "    </tr>\n",
       "    <tr>\n",
       "      <th>Italia</th>\n",
       "      <td>60.665</td>\n",
       "      <td>0.873</td>\n",
       "    </tr>\n",
       "    <tr>\n",
       "      <th>Japón</th>\n",
       "      <td>127.061</td>\n",
       "      <td>0.891</td>\n",
       "    </tr>\n",
       "    <tr>\n",
       "      <th>Reino unido</th>\n",
       "      <td>64.511</td>\n",
       "      <td>0.907</td>\n",
       "    </tr>\n",
       "    <tr>\n",
       "      <th>Estados unidos</th>\n",
       "      <td>318.523</td>\n",
       "      <td>0.915</td>\n",
       "    </tr>\n",
       "  </tbody>\n",
       "</table>\n",
       "</div>"
      ],
      "text/plain": [
       "                Población    IDH\n",
       "Canada             35.467  0.913\n",
       "Francia            63.951  0.888\n",
       "Alemania           80.940  0.916\n",
       "Italia             60.665  0.873\n",
       "Japón             127.061  0.891\n",
       "Reino unido        64.511  0.907\n",
       "Estados unidos    318.523  0.915"
      ]
     },
     "execution_count": 56,
     "metadata": {},
     "output_type": "execute_result"
    }
   ],
   "source": [
    "#Podemos seleccionar varias columnas con una lista\n",
    "\n",
    "df[[\"Población\", \"IDH\"]]"
   ]
  },
  {
   "cell_type": "code",
   "execution_count": 67,
   "id": "57b3439f",
   "metadata": {
    "scrolled": true
   },
   "outputs": [
    {
     "data": {
      "text/html": [
       "<div>\n",
       "<style scoped>\n",
       "    .dataframe tbody tr th:only-of-type {\n",
       "        vertical-align: middle;\n",
       "    }\n",
       "\n",
       "    .dataframe tbody tr th {\n",
       "        vertical-align: top;\n",
       "    }\n",
       "\n",
       "    .dataframe thead th {\n",
       "        text-align: right;\n",
       "    }\n",
       "</style>\n",
       "<table border=\"1\" class=\"dataframe\">\n",
       "  <thead>\n",
       "    <tr style=\"text-align: right;\">\n",
       "      <th></th>\n",
       "      <th>Población</th>\n",
       "      <th>PIB</th>\n",
       "      <th>Superficie</th>\n",
       "      <th>IDH</th>\n",
       "      <th>Continente</th>\n",
       "    </tr>\n",
       "  </thead>\n",
       "  <tbody>\n",
       "    <tr>\n",
       "      <th>Canada</th>\n",
       "      <td>35.467</td>\n",
       "      <td>1785387</td>\n",
       "      <td>9984670</td>\n",
       "      <td>0.913</td>\n",
       "      <td>América</td>\n",
       "    </tr>\n",
       "  </tbody>\n",
       "</table>\n",
       "</div>"
      ],
      "text/plain": [
       "        Población      PIB  Superficie    IDH Continente\n",
       "Canada     35.467  1785387     9984670  0.913    América"
      ]
     },
     "execution_count": 67,
     "metadata": {},
     "output_type": "execute_result"
    }
   ],
   "source": [
    "#El slicing trabaja a nivel de columna (recorta en las filas y llama a las columnas)\n",
    "\n",
    "df[0:1] #No toma el cuenta el límite superior"
   ]
  },
  {
   "cell_type": "code",
   "execution_count": 74,
   "id": "dbd3a75c",
   "metadata": {},
   "outputs": [
    {
     "data": {
      "text/html": [
       "<div>\n",
       "<style scoped>\n",
       "    .dataframe tbody tr th:only-of-type {\n",
       "        vertical-align: middle;\n",
       "    }\n",
       "\n",
       "    .dataframe tbody tr th {\n",
       "        vertical-align: top;\n",
       "    }\n",
       "\n",
       "    .dataframe thead th {\n",
       "        text-align: right;\n",
       "    }\n",
       "</style>\n",
       "<table border=\"1\" class=\"dataframe\">\n",
       "  <thead>\n",
       "    <tr style=\"text-align: right;\">\n",
       "      <th></th>\n",
       "      <th>Población</th>\n",
       "      <th>PIB</th>\n",
       "      <th>Superficie</th>\n",
       "      <th>IDH</th>\n",
       "      <th>Continente</th>\n",
       "    </tr>\n",
       "  </thead>\n",
       "  <tbody>\n",
       "    <tr>\n",
       "      <th>Canada</th>\n",
       "      <td>35.467</td>\n",
       "      <td>1785387</td>\n",
       "      <td>9984670</td>\n",
       "      <td>0.913</td>\n",
       "      <td>América</td>\n",
       "    </tr>\n",
       "    <tr>\n",
       "      <th>Francia</th>\n",
       "      <td>63.951</td>\n",
       "      <td>2833687</td>\n",
       "      <td>640679</td>\n",
       "      <td>0.888</td>\n",
       "      <td>Europa</td>\n",
       "    </tr>\n",
       "    <tr>\n",
       "      <th>Alemania</th>\n",
       "      <td>80.940</td>\n",
       "      <td>3874437</td>\n",
       "      <td>357114</td>\n",
       "      <td>0.916</td>\n",
       "      <td>Europa</td>\n",
       "    </tr>\n",
       "  </tbody>\n",
       "</table>\n",
       "</div>"
      ],
      "text/plain": [
       "          Población      PIB  Superficie    IDH Continente\n",
       "Canada       35.467  1785387     9984670  0.913    América\n",
       "Francia      63.951  2833687      640679  0.888     Europa\n",
       "Alemania     80.940  3874437      357114  0.916     Europa"
      ]
     },
     "execution_count": 74,
     "metadata": {},
     "output_type": "execute_result"
    }
   ],
   "source": [
    "df.loc[\"Canada\": \"Alemania\"]"
   ]
  },
  {
   "cell_type": "code",
   "execution_count": 79,
   "id": "a38a9d71",
   "metadata": {},
   "outputs": [
    {
     "data": {
      "text/plain": [
       "Canada     1785387\n",
       "Francia    2833687\n",
       "Name: PIB, dtype: int64"
      ]
     },
     "execution_count": 79,
     "metadata": {},
     "output_type": "execute_result"
    }
   ],
   "source": [
    "df.loc[[\"Canada\", \"Francia\"], \"PIB\"] #Cuando es loc el segundo argumento nos da la columna que deseamos"
   ]
  },
  {
   "cell_type": "code",
   "execution_count": 70,
   "id": "7e7b0ec4",
   "metadata": {
    "scrolled": true
   },
   "outputs": [
    {
     "data": {
      "text/html": [
       "<div>\n",
       "<style scoped>\n",
       "    .dataframe tbody tr th:only-of-type {\n",
       "        vertical-align: middle;\n",
       "    }\n",
       "\n",
       "    .dataframe tbody tr th {\n",
       "        vertical-align: top;\n",
       "    }\n",
       "\n",
       "    .dataframe thead th {\n",
       "        text-align: right;\n",
       "    }\n",
       "</style>\n",
       "<table border=\"1\" class=\"dataframe\">\n",
       "  <thead>\n",
       "    <tr style=\"text-align: right;\">\n",
       "      <th></th>\n",
       "      <th>PIB</th>\n",
       "      <th>Continente</th>\n",
       "    </tr>\n",
       "  </thead>\n",
       "  <tbody>\n",
       "    <tr>\n",
       "      <th>Canada</th>\n",
       "      <td>1785387</td>\n",
       "      <td>América</td>\n",
       "    </tr>\n",
       "    <tr>\n",
       "      <th>Francia</th>\n",
       "      <td>2833687</td>\n",
       "      <td>Europa</td>\n",
       "    </tr>\n",
       "    <tr>\n",
       "      <th>Alemania</th>\n",
       "      <td>3874437</td>\n",
       "      <td>Europa</td>\n",
       "    </tr>\n",
       "  </tbody>\n",
       "</table>\n",
       "</div>"
      ],
      "text/plain": [
       "              PIB Continente\n",
       "Canada    1785387    América\n",
       "Francia   2833687     Europa\n",
       "Alemania  3874437     Europa"
      ]
     },
     "execution_count": 70,
     "metadata": {},
     "output_type": "execute_result"
    }
   ],
   "source": [
    "df.loc[\"Canada\":\"Alemania\", [\"PIB\", \"Continente\"]] #De esta manera sí se toma en cuenta el límite superior"
   ]
  },
  {
   "cell_type": "markdown",
   "id": "f75a63a1",
   "metadata": {},
   "source": [
    "## Selección condicional (como en Series)"
   ]
  },
  {
   "cell_type": "code",
   "execution_count": 80,
   "id": "9be0e018",
   "metadata": {},
   "outputs": [
    {
     "data": {
      "text/plain": [
       "Canada            False\n",
       "Francia           False\n",
       "Alemania           True\n",
       "Italia            False\n",
       "Japón              True\n",
       "Reino unido       False\n",
       "Estados unidos     True\n",
       "Name: Población, dtype: bool"
      ]
     },
     "execution_count": 80,
     "metadata": {},
     "output_type": "execute_result"
    }
   ],
   "source": [
    "df[\"Población\"] > 70"
   ]
  },
  {
   "cell_type": "code",
   "execution_count": 82,
   "id": "32a14fee",
   "metadata": {},
   "outputs": [
    {
     "data": {
      "text/html": [
       "<div>\n",
       "<style scoped>\n",
       "    .dataframe tbody tr th:only-of-type {\n",
       "        vertical-align: middle;\n",
       "    }\n",
       "\n",
       "    .dataframe tbody tr th {\n",
       "        vertical-align: top;\n",
       "    }\n",
       "\n",
       "    .dataframe thead th {\n",
       "        text-align: right;\n",
       "    }\n",
       "</style>\n",
       "<table border=\"1\" class=\"dataframe\">\n",
       "  <thead>\n",
       "    <tr style=\"text-align: right;\">\n",
       "      <th></th>\n",
       "      <th>Población</th>\n",
       "      <th>IDH</th>\n",
       "    </tr>\n",
       "  </thead>\n",
       "  <tbody>\n",
       "    <tr>\n",
       "      <th>Alemania</th>\n",
       "      <td>80.940</td>\n",
       "      <td>0.916</td>\n",
       "    </tr>\n",
       "    <tr>\n",
       "      <th>Japón</th>\n",
       "      <td>127.061</td>\n",
       "      <td>0.891</td>\n",
       "    </tr>\n",
       "    <tr>\n",
       "      <th>Estados unidos</th>\n",
       "      <td>318.523</td>\n",
       "      <td>0.915</td>\n",
       "    </tr>\n",
       "  </tbody>\n",
       "</table>\n",
       "</div>"
      ],
      "text/plain": [
       "                Población    IDH\n",
       "Alemania           80.940  0.916\n",
       "Japón             127.061  0.891\n",
       "Estados unidos    318.523  0.915"
      ]
     },
     "execution_count": 82,
     "metadata": {},
     "output_type": "execute_result"
    }
   ],
   "source": [
    "df.loc[df[\"Población\"]>70, [\"Población\", \"IDH\"]]"
   ]
  },
  {
   "cell_type": "markdown",
   "id": "3612d643",
   "metadata": {},
   "source": [
    "Dropping quita las filas o columnas especificadas y hacer esto no cambia el dataframe. Los dataframes son inmutables con este método y con la mayoría de los existentes."
   ]
  },
  {
   "cell_type": "code",
   "execution_count": 91,
   "id": "34f17f94",
   "metadata": {},
   "outputs": [
    {
     "data": {
      "text/html": [
       "<div>\n",
       "<style scoped>\n",
       "    .dataframe tbody tr th:only-of-type {\n",
       "        vertical-align: middle;\n",
       "    }\n",
       "\n",
       "    .dataframe tbody tr th {\n",
       "        vertical-align: top;\n",
       "    }\n",
       "\n",
       "    .dataframe thead th {\n",
       "        text-align: right;\n",
       "    }\n",
       "</style>\n",
       "<table border=\"1\" class=\"dataframe\">\n",
       "  <thead>\n",
       "    <tr style=\"text-align: right;\">\n",
       "      <th></th>\n",
       "      <th>Población</th>\n",
       "      <th>PIB</th>\n",
       "      <th>Superficie</th>\n",
       "      <th>IDH</th>\n",
       "      <th>Continente</th>\n",
       "    </tr>\n",
       "  </thead>\n",
       "  <tbody>\n",
       "    <tr>\n",
       "      <th>Alemania</th>\n",
       "      <td>80.940</td>\n",
       "      <td>3874437</td>\n",
       "      <td>357114</td>\n",
       "      <td>0.916</td>\n",
       "      <td>Europa</td>\n",
       "    </tr>\n",
       "    <tr>\n",
       "      <th>Japón</th>\n",
       "      <td>127.061</td>\n",
       "      <td>4602367</td>\n",
       "      <td>377930</td>\n",
       "      <td>0.891</td>\n",
       "      <td>Asia</td>\n",
       "    </tr>\n",
       "    <tr>\n",
       "      <th>Reino unido</th>\n",
       "      <td>64.511</td>\n",
       "      <td>2950039</td>\n",
       "      <td>242495</td>\n",
       "      <td>0.907</td>\n",
       "      <td>Europa</td>\n",
       "    </tr>\n",
       "    <tr>\n",
       "      <th>Estados unidos</th>\n",
       "      <td>318.523</td>\n",
       "      <td>17348075</td>\n",
       "      <td>9525067</td>\n",
       "      <td>0.915</td>\n",
       "      <td>América</td>\n",
       "    </tr>\n",
       "  </tbody>\n",
       "</table>\n",
       "</div>"
      ],
      "text/plain": [
       "                Población       PIB  Superficie    IDH Continente\n",
       "Alemania           80.940   3874437      357114  0.916     Europa\n",
       "Japón             127.061   4602367      377930  0.891       Asia\n",
       "Reino unido        64.511   2950039      242495  0.907     Europa\n",
       "Estados unidos    318.523  17348075     9525067  0.915    América"
      ]
     },
     "execution_count": 91,
     "metadata": {},
     "output_type": "execute_result"
    }
   ],
   "source": [
    "df.drop([\"Francia\", \"Canada\", \"Italia\"])"
   ]
  },
  {
   "cell_type": "markdown",
   "id": "802285c1",
   "metadata": {},
   "source": [
    "## Operaciones\n",
    "\n",
    "Cosas que podemos hacer"
   ]
  },
  {
   "cell_type": "code",
   "execution_count": 92,
   "id": "8b9a89b9",
   "metadata": {},
   "outputs": [
    {
     "data": {
      "text/plain": [
       "PIB   -1000000.0\n",
       "IDH         -0.3\n",
       "dtype: float64"
      ]
     },
     "execution_count": 92,
     "metadata": {},
     "output_type": "execute_result"
    }
   ],
   "source": [
    "crisis = pd.Series([-1_000_000, -0.3], index = [\"PIB\", \"IDH\"])\n",
    "crisis"
   ]
  },
  {
   "cell_type": "code",
   "execution_count": 93,
   "id": "44b0d45a",
   "metadata": {},
   "outputs": [
    {
     "data": {
      "text/html": [
       "<div>\n",
       "<style scoped>\n",
       "    .dataframe tbody tr th:only-of-type {\n",
       "        vertical-align: middle;\n",
       "    }\n",
       "\n",
       "    .dataframe tbody tr th {\n",
       "        vertical-align: top;\n",
       "    }\n",
       "\n",
       "    .dataframe thead th {\n",
       "        text-align: right;\n",
       "    }\n",
       "</style>\n",
       "<table border=\"1\" class=\"dataframe\">\n",
       "  <thead>\n",
       "    <tr style=\"text-align: right;\">\n",
       "      <th></th>\n",
       "      <th>PIB</th>\n",
       "      <th>IDH</th>\n",
       "    </tr>\n",
       "  </thead>\n",
       "  <tbody>\n",
       "    <tr>\n",
       "      <th>Canada</th>\n",
       "      <td>1785387</td>\n",
       "      <td>0.913</td>\n",
       "    </tr>\n",
       "    <tr>\n",
       "      <th>Francia</th>\n",
       "      <td>2833687</td>\n",
       "      <td>0.888</td>\n",
       "    </tr>\n",
       "    <tr>\n",
       "      <th>Alemania</th>\n",
       "      <td>3874437</td>\n",
       "      <td>0.916</td>\n",
       "    </tr>\n",
       "    <tr>\n",
       "      <th>Italia</th>\n",
       "      <td>2167744</td>\n",
       "      <td>0.873</td>\n",
       "    </tr>\n",
       "    <tr>\n",
       "      <th>Japón</th>\n",
       "      <td>4602367</td>\n",
       "      <td>0.891</td>\n",
       "    </tr>\n",
       "    <tr>\n",
       "      <th>Reino unido</th>\n",
       "      <td>2950039</td>\n",
       "      <td>0.907</td>\n",
       "    </tr>\n",
       "    <tr>\n",
       "      <th>Estados unidos</th>\n",
       "      <td>17348075</td>\n",
       "      <td>0.915</td>\n",
       "    </tr>\n",
       "  </tbody>\n",
       "</table>\n",
       "</div>"
      ],
      "text/plain": [
       "                     PIB    IDH\n",
       "Canada           1785387  0.913\n",
       "Francia          2833687  0.888\n",
       "Alemania         3874437  0.916\n",
       "Italia           2167744  0.873\n",
       "Japón            4602367  0.891\n",
       "Reino unido      2950039  0.907\n",
       "Estados unidos  17348075  0.915"
      ]
     },
     "execution_count": 93,
     "metadata": {},
     "output_type": "execute_result"
    }
   ],
   "source": [
    "df[[\"PIB\", \"IDH\"]] "
   ]
  },
  {
   "cell_type": "code",
   "execution_count": 96,
   "id": "add296d7",
   "metadata": {},
   "outputs": [
    {
     "data": {
      "text/html": [
       "<div>\n",
       "<style scoped>\n",
       "    .dataframe tbody tr th:only-of-type {\n",
       "        vertical-align: middle;\n",
       "    }\n",
       "\n",
       "    .dataframe tbody tr th {\n",
       "        vertical-align: top;\n",
       "    }\n",
       "\n",
       "    .dataframe thead th {\n",
       "        text-align: right;\n",
       "    }\n",
       "</style>\n",
       "<table border=\"1\" class=\"dataframe\">\n",
       "  <thead>\n",
       "    <tr style=\"text-align: right;\">\n",
       "      <th></th>\n",
       "      <th>PIB</th>\n",
       "      <th>IDH</th>\n",
       "    </tr>\n",
       "  </thead>\n",
       "  <tbody>\n",
       "    <tr>\n",
       "      <th>Canada</th>\n",
       "      <td>785387.0</td>\n",
       "      <td>0.613</td>\n",
       "    </tr>\n",
       "    <tr>\n",
       "      <th>Francia</th>\n",
       "      <td>1833687.0</td>\n",
       "      <td>0.588</td>\n",
       "    </tr>\n",
       "    <tr>\n",
       "      <th>Alemania</th>\n",
       "      <td>2874437.0</td>\n",
       "      <td>0.616</td>\n",
       "    </tr>\n",
       "    <tr>\n",
       "      <th>Italia</th>\n",
       "      <td>1167744.0</td>\n",
       "      <td>0.573</td>\n",
       "    </tr>\n",
       "    <tr>\n",
       "      <th>Japón</th>\n",
       "      <td>3602367.0</td>\n",
       "      <td>0.591</td>\n",
       "    </tr>\n",
       "    <tr>\n",
       "      <th>Reino unido</th>\n",
       "      <td>1950039.0</td>\n",
       "      <td>0.607</td>\n",
       "    </tr>\n",
       "    <tr>\n",
       "      <th>Estados unidos</th>\n",
       "      <td>16348075.0</td>\n",
       "      <td>0.615</td>\n",
       "    </tr>\n",
       "  </tbody>\n",
       "</table>\n",
       "</div>"
      ],
      "text/plain": [
       "                       PIB    IDH\n",
       "Canada            785387.0  0.613\n",
       "Francia          1833687.0  0.588\n",
       "Alemania         2874437.0  0.616\n",
       "Italia           1167744.0  0.573\n",
       "Japón            3602367.0  0.591\n",
       "Reino unido      1950039.0  0.607\n",
       "Estados unidos  16348075.0  0.615"
      ]
     },
     "execution_count": 96,
     "metadata": {},
     "output_type": "execute_result"
    }
   ],
   "source": [
    "df[[\"PIB\", \"IDH\"]] + crisis #Combinando las dos columnas que están alineadas aunque no encajen las filas (se multiplican)"
   ]
  },
  {
   "cell_type": "markdown",
   "id": "3264ab12",
   "metadata": {},
   "source": [
    "## Modificar el DF\n",
    "\n",
    "Podemos agregar columnas con serires"
   ]
  },
  {
   "cell_type": "code",
   "execution_count": 97,
   "id": "b3744cc6",
   "metadata": {},
   "outputs": [],
   "source": [
    "idiomas = pd.Series(\n",
    "    {\"Francia\" : \"Francés\",\n",
    "    \"Alemania\": \"Alemán\",\n",
    "    \"Italia\": \"Italiano\"},\n",
    "    name = \"Idioma\"\n",
    ")"
   ]
  },
  {
   "cell_type": "code",
   "execution_count": 100,
   "id": "a855bc31",
   "metadata": {},
   "outputs": [],
   "source": [
    "df[\"Idioma\"] = idiomas"
   ]
  },
  {
   "cell_type": "code",
   "execution_count": 101,
   "id": "1b134632",
   "metadata": {},
   "outputs": [
    {
     "data": {
      "text/html": [
       "<div>\n",
       "<style scoped>\n",
       "    .dataframe tbody tr th:only-of-type {\n",
       "        vertical-align: middle;\n",
       "    }\n",
       "\n",
       "    .dataframe tbody tr th {\n",
       "        vertical-align: top;\n",
       "    }\n",
       "\n",
       "    .dataframe thead th {\n",
       "        text-align: right;\n",
       "    }\n",
       "</style>\n",
       "<table border=\"1\" class=\"dataframe\">\n",
       "  <thead>\n",
       "    <tr style=\"text-align: right;\">\n",
       "      <th></th>\n",
       "      <th>Población</th>\n",
       "      <th>PIB</th>\n",
       "      <th>Superficie</th>\n",
       "      <th>IDH</th>\n",
       "      <th>Continente</th>\n",
       "      <th>Idioma</th>\n",
       "    </tr>\n",
       "  </thead>\n",
       "  <tbody>\n",
       "    <tr>\n",
       "      <th>Canada</th>\n",
       "      <td>35.467</td>\n",
       "      <td>1785387</td>\n",
       "      <td>9984670</td>\n",
       "      <td>0.913</td>\n",
       "      <td>América</td>\n",
       "      <td>NaN</td>\n",
       "    </tr>\n",
       "    <tr>\n",
       "      <th>Francia</th>\n",
       "      <td>63.951</td>\n",
       "      <td>2833687</td>\n",
       "      <td>640679</td>\n",
       "      <td>0.888</td>\n",
       "      <td>Europa</td>\n",
       "      <td>Francés</td>\n",
       "    </tr>\n",
       "    <tr>\n",
       "      <th>Alemania</th>\n",
       "      <td>80.940</td>\n",
       "      <td>3874437</td>\n",
       "      <td>357114</td>\n",
       "      <td>0.916</td>\n",
       "      <td>Europa</td>\n",
       "      <td>Alemán</td>\n",
       "    </tr>\n",
       "    <tr>\n",
       "      <th>Italia</th>\n",
       "      <td>60.665</td>\n",
       "      <td>2167744</td>\n",
       "      <td>301336</td>\n",
       "      <td>0.873</td>\n",
       "      <td>Europa</td>\n",
       "      <td>Italiano</td>\n",
       "    </tr>\n",
       "    <tr>\n",
       "      <th>Japón</th>\n",
       "      <td>127.061</td>\n",
       "      <td>4602367</td>\n",
       "      <td>377930</td>\n",
       "      <td>0.891</td>\n",
       "      <td>Asia</td>\n",
       "      <td>NaN</td>\n",
       "    </tr>\n",
       "    <tr>\n",
       "      <th>Reino unido</th>\n",
       "      <td>64.511</td>\n",
       "      <td>2950039</td>\n",
       "      <td>242495</td>\n",
       "      <td>0.907</td>\n",
       "      <td>Europa</td>\n",
       "      <td>NaN</td>\n",
       "    </tr>\n",
       "    <tr>\n",
       "      <th>Estados unidos</th>\n",
       "      <td>318.523</td>\n",
       "      <td>17348075</td>\n",
       "      <td>9525067</td>\n",
       "      <td>0.915</td>\n",
       "      <td>América</td>\n",
       "      <td>NaN</td>\n",
       "    </tr>\n",
       "  </tbody>\n",
       "</table>\n",
       "</div>"
      ],
      "text/plain": [
       "                Población       PIB  Superficie    IDH Continente    Idioma\n",
       "Canada             35.467   1785387     9984670  0.913    América       NaN\n",
       "Francia            63.951   2833687      640679  0.888     Europa   Francés\n",
       "Alemania           80.940   3874437      357114  0.916     Europa    Alemán\n",
       "Italia             60.665   2167744      301336  0.873     Europa  Italiano\n",
       "Japón             127.061   4602367      377930  0.891       Asia       NaN\n",
       "Reino unido        64.511   2950039      242495  0.907     Europa       NaN\n",
       "Estados unidos    318.523  17348075     9525067  0.915    América       NaN"
      ]
     },
     "execution_count": 101,
     "metadata": {},
     "output_type": "execute_result"
    }
   ],
   "source": [
    "df"
   ]
  },
  {
   "cell_type": "markdown",
   "id": "27b78315",
   "metadata": {},
   "source": [
    "Podemos cambiar toda una columna igualándola a un valor.\n",
    "Casi siempre vamos a modificar un DF cuando tenemos un operador \"=\" en nuestra operación."
   ]
  },
  {
   "cell_type": "code",
   "execution_count": 104,
   "id": "b2f0dff2",
   "metadata": {},
   "outputs": [
    {
     "data": {
      "text/html": [
       "<div>\n",
       "<style scoped>\n",
       "    .dataframe tbody tr th:only-of-type {\n",
       "        vertical-align: middle;\n",
       "    }\n",
       "\n",
       "    .dataframe tbody tr th {\n",
       "        vertical-align: top;\n",
       "    }\n",
       "\n",
       "    .dataframe thead th {\n",
       "        text-align: right;\n",
       "    }\n",
       "</style>\n",
       "<table border=\"1\" class=\"dataframe\">\n",
       "  <thead>\n",
       "    <tr style=\"text-align: right;\">\n",
       "      <th></th>\n",
       "      <th>Populación</th>\n",
       "      <th>PIB</th>\n",
       "      <th>Superficie</th>\n",
       "      <th>IDH</th>\n",
       "      <th>Continente</th>\n",
       "      <th>Idioma</th>\n",
       "    </tr>\n",
       "  </thead>\n",
       "  <tbody>\n",
       "    <tr>\n",
       "      <th>Canada</th>\n",
       "      <td>35.467</td>\n",
       "      <td>1785387</td>\n",
       "      <td>9984670</td>\n",
       "      <td>0.913</td>\n",
       "      <td>América</td>\n",
       "      <td>NaN</td>\n",
       "    </tr>\n",
       "    <tr>\n",
       "      <th>Francia</th>\n",
       "      <td>63.951</td>\n",
       "      <td>2833687</td>\n",
       "      <td>640679</td>\n",
       "      <td>0.888</td>\n",
       "      <td>Europa</td>\n",
       "      <td>Francés</td>\n",
       "    </tr>\n",
       "    <tr>\n",
       "      <th>Alemania</th>\n",
       "      <td>80.940</td>\n",
       "      <td>3874437</td>\n",
       "      <td>357114</td>\n",
       "      <td>0.916</td>\n",
       "      <td>Europa</td>\n",
       "      <td>Alemán</td>\n",
       "    </tr>\n",
       "    <tr>\n",
       "      <th>Italia</th>\n",
       "      <td>60.665</td>\n",
       "      <td>2167744</td>\n",
       "      <td>301336</td>\n",
       "      <td>0.873</td>\n",
       "      <td>Europa</td>\n",
       "      <td>Italiano</td>\n",
       "    </tr>\n",
       "    <tr>\n",
       "      <th>Japón</th>\n",
       "      <td>127.061</td>\n",
       "      <td>4602367</td>\n",
       "      <td>377930</td>\n",
       "      <td>0.891</td>\n",
       "      <td>Asia</td>\n",
       "      <td>NaN</td>\n",
       "    </tr>\n",
       "    <tr>\n",
       "      <th>Reino unido</th>\n",
       "      <td>64.511</td>\n",
       "      <td>2950039</td>\n",
       "      <td>242495</td>\n",
       "      <td>0.907</td>\n",
       "      <td>Europa</td>\n",
       "      <td>NaN</td>\n",
       "    </tr>\n",
       "    <tr>\n",
       "      <th>Estados unidos</th>\n",
       "      <td>318.523</td>\n",
       "      <td>17348075</td>\n",
       "      <td>9525067</td>\n",
       "      <td>0.915</td>\n",
       "      <td>América</td>\n",
       "      <td>NaN</td>\n",
       "    </tr>\n",
       "  </tbody>\n",
       "</table>\n",
       "</div>"
      ],
      "text/plain": [
       "                Populación       PIB  Superficie    IDH Continente    Idioma\n",
       "Canada              35.467   1785387     9984670  0.913    América       NaN\n",
       "Francia             63.951   2833687      640679  0.888     Europa   Francés\n",
       "Alemania            80.940   3874437      357114  0.916     Europa    Alemán\n",
       "Italia              60.665   2167744      301336  0.873     Europa  Italiano\n",
       "Japón              127.061   4602367      377930  0.891       Asia       NaN\n",
       "Reino unido         64.511   2950039      242495  0.907     Europa       NaN\n",
       "Estados unidos     318.523  17348075     9525067  0.915    América       NaN"
      ]
     },
     "execution_count": 104,
     "metadata": {},
     "output_type": "execute_result"
    }
   ],
   "source": [
    "df.rename(\n",
    "    columns = {\"Población\":\"Populación\"}\n",
    ")\n",
    "\n",
    "#Esto no altera el DF original"
   ]
  },
  {
   "cell_type": "markdown",
   "id": "8f2d11c9",
   "metadata": {},
   "source": [
    "## Creando columnas con las columnas existentes"
   ]
  },
  {
   "cell_type": "code",
   "execution_count": 109,
   "id": "32c66b71",
   "metadata": {},
   "outputs": [],
   "source": [
    "df[\"PIB/Cap/10\"] = df[\"PIB\"]/df[\"Población\"]/1000"
   ]
  },
  {
   "cell_type": "code",
   "execution_count": 110,
   "id": "eebbc039",
   "metadata": {},
   "outputs": [
    {
     "data": {
      "text/html": [
       "<div>\n",
       "<style scoped>\n",
       "    .dataframe tbody tr th:only-of-type {\n",
       "        vertical-align: middle;\n",
       "    }\n",
       "\n",
       "    .dataframe tbody tr th {\n",
       "        vertical-align: top;\n",
       "    }\n",
       "\n",
       "    .dataframe thead th {\n",
       "        text-align: right;\n",
       "    }\n",
       "</style>\n",
       "<table border=\"1\" class=\"dataframe\">\n",
       "  <thead>\n",
       "    <tr style=\"text-align: right;\">\n",
       "      <th></th>\n",
       "      <th>Población</th>\n",
       "      <th>PIB</th>\n",
       "      <th>Superficie</th>\n",
       "      <th>IDH</th>\n",
       "      <th>Continente</th>\n",
       "      <th>Idioma</th>\n",
       "      <th>PIB/Cap</th>\n",
       "      <th>PIB/Cap/10</th>\n",
       "    </tr>\n",
       "  </thead>\n",
       "  <tbody>\n",
       "    <tr>\n",
       "      <th>Canada</th>\n",
       "      <td>35.467</td>\n",
       "      <td>1785387</td>\n",
       "      <td>9984670</td>\n",
       "      <td>0.913</td>\n",
       "      <td>América</td>\n",
       "      <td>NaN</td>\n",
       "      <td>50.339386</td>\n",
       "      <td>50.339386</td>\n",
       "    </tr>\n",
       "    <tr>\n",
       "      <th>Francia</th>\n",
       "      <td>63.951</td>\n",
       "      <td>2833687</td>\n",
       "      <td>640679</td>\n",
       "      <td>0.888</td>\n",
       "      <td>Europa</td>\n",
       "      <td>Francés</td>\n",
       "      <td>44.310284</td>\n",
       "      <td>44.310284</td>\n",
       "    </tr>\n",
       "    <tr>\n",
       "      <th>Alemania</th>\n",
       "      <td>80.940</td>\n",
       "      <td>3874437</td>\n",
       "      <td>357114</td>\n",
       "      <td>0.916</td>\n",
       "      <td>Europa</td>\n",
       "      <td>Alemán</td>\n",
       "      <td>47.868013</td>\n",
       "      <td>47.868013</td>\n",
       "    </tr>\n",
       "    <tr>\n",
       "      <th>Italia</th>\n",
       "      <td>60.665</td>\n",
       "      <td>2167744</td>\n",
       "      <td>301336</td>\n",
       "      <td>0.873</td>\n",
       "      <td>Europa</td>\n",
       "      <td>Italiano</td>\n",
       "      <td>35.733026</td>\n",
       "      <td>35.733026</td>\n",
       "    </tr>\n",
       "    <tr>\n",
       "      <th>Japón</th>\n",
       "      <td>127.061</td>\n",
       "      <td>4602367</td>\n",
       "      <td>377930</td>\n",
       "      <td>0.891</td>\n",
       "      <td>Asia</td>\n",
       "      <td>NaN</td>\n",
       "      <td>36.221712</td>\n",
       "      <td>36.221712</td>\n",
       "    </tr>\n",
       "    <tr>\n",
       "      <th>Reino unido</th>\n",
       "      <td>64.511</td>\n",
       "      <td>2950039</td>\n",
       "      <td>242495</td>\n",
       "      <td>0.907</td>\n",
       "      <td>Europa</td>\n",
       "      <td>NaN</td>\n",
       "      <td>45.729240</td>\n",
       "      <td>45.729240</td>\n",
       "    </tr>\n",
       "    <tr>\n",
       "      <th>Estados unidos</th>\n",
       "      <td>318.523</td>\n",
       "      <td>17348075</td>\n",
       "      <td>9525067</td>\n",
       "      <td>0.915</td>\n",
       "      <td>América</td>\n",
       "      <td>NaN</td>\n",
       "      <td>54.464120</td>\n",
       "      <td>54.464120</td>\n",
       "    </tr>\n",
       "  </tbody>\n",
       "</table>\n",
       "</div>"
      ],
      "text/plain": [
       "                Población       PIB  Superficie    IDH Continente    Idioma  \\\n",
       "Canada             35.467   1785387     9984670  0.913    América       NaN   \n",
       "Francia            63.951   2833687      640679  0.888     Europa   Francés   \n",
       "Alemania           80.940   3874437      357114  0.916     Europa    Alemán   \n",
       "Italia             60.665   2167744      301336  0.873     Europa  Italiano   \n",
       "Japón             127.061   4602367      377930  0.891       Asia       NaN   \n",
       "Reino unido        64.511   2950039      242495  0.907     Europa       NaN   \n",
       "Estados unidos    318.523  17348075     9525067  0.915    América       NaN   \n",
       "\n",
       "                  PIB/Cap  PIB/Cap/10  \n",
       "Canada          50.339386   50.339386  \n",
       "Francia         44.310284   44.310284  \n",
       "Alemania        47.868013   47.868013  \n",
       "Italia          35.733026   35.733026  \n",
       "Japón           36.221712   36.221712  \n",
       "Reino unido     45.729240   45.729240  \n",
       "Estados unidos  54.464120   54.464120  "
      ]
     },
     "execution_count": 110,
     "metadata": {},
     "output_type": "execute_result"
    }
   ],
   "source": [
    "df"
   ]
  },
  {
   "cell_type": "markdown",
   "id": "6a740337",
   "metadata": {},
   "source": [
    "## Lectura de datos"
   ]
  },
  {
   "cell_type": "code",
   "execution_count": 118,
   "id": "6070bc91",
   "metadata": {},
   "outputs": [],
   "source": [
    "DF = pd.read_csv('btc-market-price.csv', header = None)"
   ]
  },
  {
   "cell_type": "code",
   "execution_count": 119,
   "id": "9f0a8801",
   "metadata": {},
   "outputs": [
    {
     "data": {
      "text/html": [
       "<div>\n",
       "<style scoped>\n",
       "    .dataframe tbody tr th:only-of-type {\n",
       "        vertical-align: middle;\n",
       "    }\n",
       "\n",
       "    .dataframe tbody tr th {\n",
       "        vertical-align: top;\n",
       "    }\n",
       "\n",
       "    .dataframe thead th {\n",
       "        text-align: right;\n",
       "    }\n",
       "</style>\n",
       "<table border=\"1\" class=\"dataframe\">\n",
       "  <thead>\n",
       "    <tr style=\"text-align: right;\">\n",
       "      <th></th>\n",
       "      <th>0</th>\n",
       "      <th>1</th>\n",
       "    </tr>\n",
       "  </thead>\n",
       "  <tbody>\n",
       "    <tr>\n",
       "      <th>0</th>\n",
       "      <td>2017-04-02 00:00:00</td>\n",
       "      <td>1099.169125</td>\n",
       "    </tr>\n",
       "    <tr>\n",
       "      <th>1</th>\n",
       "      <td>2017-04-03 00:00:00</td>\n",
       "      <td>1141.813000</td>\n",
       "    </tr>\n",
       "    <tr>\n",
       "      <th>2</th>\n",
       "      <td>2017-04-04 00:00:00</td>\n",
       "      <td>1141.600363</td>\n",
       "    </tr>\n",
       "    <tr>\n",
       "      <th>3</th>\n",
       "      <td>2017-04-05 00:00:00</td>\n",
       "      <td>1133.079314</td>\n",
       "    </tr>\n",
       "    <tr>\n",
       "      <th>4</th>\n",
       "      <td>2017-04-06 00:00:00</td>\n",
       "      <td>1196.307937</td>\n",
       "    </tr>\n",
       "  </tbody>\n",
       "</table>\n",
       "</div>"
      ],
      "text/plain": [
       "                     0            1\n",
       "0  2017-04-02 00:00:00  1099.169125\n",
       "1  2017-04-03 00:00:00  1141.813000\n",
       "2  2017-04-04 00:00:00  1141.600363\n",
       "3  2017-04-05 00:00:00  1133.079314\n",
       "4  2017-04-06 00:00:00  1196.307937"
      ]
     },
     "execution_count": 119,
     "metadata": {},
     "output_type": "execute_result"
    }
   ],
   "source": [
    "DF.head()"
   ]
  },
  {
   "cell_type": "code",
   "execution_count": 121,
   "id": "44877a74",
   "metadata": {},
   "outputs": [],
   "source": [
    "DF.columns = [\"Timestamp\", \"Price\"]"
   ]
  },
  {
   "cell_type": "code",
   "execution_count": 122,
   "id": "3957d009",
   "metadata": {},
   "outputs": [
    {
     "data": {
      "text/plain": [
       "(365, 2)"
      ]
     },
     "execution_count": 122,
     "metadata": {},
     "output_type": "execute_result"
    }
   ],
   "source": [
    "DF.shape"
   ]
  },
  {
   "cell_type": "code",
   "execution_count": 123,
   "id": "7c862070",
   "metadata": {},
   "outputs": [
    {
     "data": {
      "text/html": [
       "<div>\n",
       "<style scoped>\n",
       "    .dataframe tbody tr th:only-of-type {\n",
       "        vertical-align: middle;\n",
       "    }\n",
       "\n",
       "    .dataframe tbody tr th {\n",
       "        vertical-align: top;\n",
       "    }\n",
       "\n",
       "    .dataframe thead th {\n",
       "        text-align: right;\n",
       "    }\n",
       "</style>\n",
       "<table border=\"1\" class=\"dataframe\">\n",
       "  <thead>\n",
       "    <tr style=\"text-align: right;\">\n",
       "      <th></th>\n",
       "      <th>Timestamp</th>\n",
       "      <th>Price</th>\n",
       "    </tr>\n",
       "  </thead>\n",
       "  <tbody>\n",
       "    <tr>\n",
       "      <th>0</th>\n",
       "      <td>2017-04-02 00:00:00</td>\n",
       "      <td>1099.169125</td>\n",
       "    </tr>\n",
       "    <tr>\n",
       "      <th>1</th>\n",
       "      <td>2017-04-03 00:00:00</td>\n",
       "      <td>1141.813000</td>\n",
       "    </tr>\n",
       "    <tr>\n",
       "      <th>2</th>\n",
       "      <td>2017-04-04 00:00:00</td>\n",
       "      <td>1141.600363</td>\n",
       "    </tr>\n",
       "    <tr>\n",
       "      <th>3</th>\n",
       "      <td>2017-04-05 00:00:00</td>\n",
       "      <td>1133.079314</td>\n",
       "    </tr>\n",
       "    <tr>\n",
       "      <th>4</th>\n",
       "      <td>2017-04-06 00:00:00</td>\n",
       "      <td>1196.307937</td>\n",
       "    </tr>\n",
       "  </tbody>\n",
       "</table>\n",
       "</div>"
      ],
      "text/plain": [
       "             Timestamp        Price\n",
       "0  2017-04-02 00:00:00  1099.169125\n",
       "1  2017-04-03 00:00:00  1141.813000\n",
       "2  2017-04-04 00:00:00  1141.600363\n",
       "3  2017-04-05 00:00:00  1133.079314\n",
       "4  2017-04-06 00:00:00  1196.307937"
      ]
     },
     "execution_count": 123,
     "metadata": {},
     "output_type": "execute_result"
    }
   ],
   "source": [
    "DF.head()"
   ]
  },
  {
   "cell_type": "code",
   "execution_count": 125,
   "id": "17ebf2e6",
   "metadata": {},
   "outputs": [
    {
     "data": {
      "text/html": [
       "<div>\n",
       "<style scoped>\n",
       "    .dataframe tbody tr th:only-of-type {\n",
       "        vertical-align: middle;\n",
       "    }\n",
       "\n",
       "    .dataframe tbody tr th {\n",
       "        vertical-align: top;\n",
       "    }\n",
       "\n",
       "    .dataframe thead th {\n",
       "        text-align: right;\n",
       "    }\n",
       "</style>\n",
       "<table border=\"1\" class=\"dataframe\">\n",
       "  <thead>\n",
       "    <tr style=\"text-align: right;\">\n",
       "      <th></th>\n",
       "      <th>Timestamp</th>\n",
       "      <th>Price</th>\n",
       "    </tr>\n",
       "  </thead>\n",
       "  <tbody>\n",
       "    <tr>\n",
       "      <th>355</th>\n",
       "      <td>2018-03-23 00:00:00</td>\n",
       "      <td>8686.826667</td>\n",
       "    </tr>\n",
       "    <tr>\n",
       "      <th>356</th>\n",
       "      <td>2018-03-24 00:00:00</td>\n",
       "      <td>8662.378333</td>\n",
       "    </tr>\n",
       "    <tr>\n",
       "      <th>357</th>\n",
       "      <td>2018-03-25 00:00:00</td>\n",
       "      <td>8617.296667</td>\n",
       "    </tr>\n",
       "    <tr>\n",
       "      <th>358</th>\n",
       "      <td>2018-03-26 00:00:00</td>\n",
       "      <td>8197.548333</td>\n",
       "    </tr>\n",
       "    <tr>\n",
       "      <th>359</th>\n",
       "      <td>2018-03-27 00:00:00</td>\n",
       "      <td>7876.195000</td>\n",
       "    </tr>\n",
       "    <tr>\n",
       "      <th>360</th>\n",
       "      <td>2018-03-28 00:00:00</td>\n",
       "      <td>7960.380000</td>\n",
       "    </tr>\n",
       "    <tr>\n",
       "      <th>361</th>\n",
       "      <td>2018-03-29 00:00:00</td>\n",
       "      <td>7172.280000</td>\n",
       "    </tr>\n",
       "    <tr>\n",
       "      <th>362</th>\n",
       "      <td>2018-03-30 00:00:00</td>\n",
       "      <td>6882.531667</td>\n",
       "    </tr>\n",
       "    <tr>\n",
       "      <th>363</th>\n",
       "      <td>2018-03-31 00:00:00</td>\n",
       "      <td>6935.480000</td>\n",
       "    </tr>\n",
       "    <tr>\n",
       "      <th>364</th>\n",
       "      <td>2018-04-01 00:00:00</td>\n",
       "      <td>6794.105000</td>\n",
       "    </tr>\n",
       "  </tbody>\n",
       "</table>\n",
       "</div>"
      ],
      "text/plain": [
       "               Timestamp        Price\n",
       "355  2018-03-23 00:00:00  8686.826667\n",
       "356  2018-03-24 00:00:00  8662.378333\n",
       "357  2018-03-25 00:00:00  8617.296667\n",
       "358  2018-03-26 00:00:00  8197.548333\n",
       "359  2018-03-27 00:00:00  7876.195000\n",
       "360  2018-03-28 00:00:00  7960.380000\n",
       "361  2018-03-29 00:00:00  7172.280000\n",
       "362  2018-03-30 00:00:00  6882.531667\n",
       "363  2018-03-31 00:00:00  6935.480000\n",
       "364  2018-04-01 00:00:00  6794.105000"
      ]
     },
     "execution_count": 125,
     "metadata": {},
     "output_type": "execute_result"
    }
   ],
   "source": [
    "DF.tail(10)"
   ]
  },
  {
   "cell_type": "code",
   "execution_count": 127,
   "id": "2fb16943",
   "metadata": {},
   "outputs": [
    {
     "data": {
      "text/plain": [
       "Timestamp     object\n",
       "Price        float64\n",
       "dtype: object"
      ]
     },
     "execution_count": 127,
     "metadata": {},
     "output_type": "execute_result"
    }
   ],
   "source": [
    "DF.dtypes"
   ]
  },
  {
   "cell_type": "code",
   "execution_count": 128,
   "id": "ba9227a2",
   "metadata": {},
   "outputs": [
    {
     "data": {
      "text/plain": [
       "0   2017-04-02\n",
       "1   2017-04-03\n",
       "2   2017-04-04\n",
       "3   2017-04-05\n",
       "4   2017-04-06\n",
       "Name: Timestamp, dtype: datetime64[ns]"
      ]
     },
     "execution_count": 128,
     "metadata": {},
     "output_type": "execute_result"
    }
   ],
   "source": [
    "pd.to_datetime(DF[\"Timestamp\"]).head()"
   ]
  },
  {
   "cell_type": "code",
   "execution_count": 129,
   "id": "a8bf354a",
   "metadata": {},
   "outputs": [],
   "source": [
    "DF[\"Timestamp\"] = pd.to_datetime(DF[\"Timestamp\"])"
   ]
  },
  {
   "cell_type": "code",
   "execution_count": 131,
   "id": "244c2309",
   "metadata": {},
   "outputs": [],
   "source": [
    "DF.set_index(\"Timestamp\", inplace = True)"
   ]
  },
  {
   "cell_type": "code",
   "execution_count": 132,
   "id": "226efdc8",
   "metadata": {},
   "outputs": [
    {
     "data": {
      "text/html": [
       "<div>\n",
       "<style scoped>\n",
       "    .dataframe tbody tr th:only-of-type {\n",
       "        vertical-align: middle;\n",
       "    }\n",
       "\n",
       "    .dataframe tbody tr th {\n",
       "        vertical-align: top;\n",
       "    }\n",
       "\n",
       "    .dataframe thead th {\n",
       "        text-align: right;\n",
       "    }\n",
       "</style>\n",
       "<table border=\"1\" class=\"dataframe\">\n",
       "  <thead>\n",
       "    <tr style=\"text-align: right;\">\n",
       "      <th></th>\n",
       "      <th>Price</th>\n",
       "    </tr>\n",
       "    <tr>\n",
       "      <th>Timestamp</th>\n",
       "      <th></th>\n",
       "    </tr>\n",
       "  </thead>\n",
       "  <tbody>\n",
       "    <tr>\n",
       "      <th>2017-04-02</th>\n",
       "      <td>1099.169125</td>\n",
       "    </tr>\n",
       "    <tr>\n",
       "      <th>2017-04-03</th>\n",
       "      <td>1141.813000</td>\n",
       "    </tr>\n",
       "    <tr>\n",
       "      <th>2017-04-04</th>\n",
       "      <td>1141.600363</td>\n",
       "    </tr>\n",
       "    <tr>\n",
       "      <th>2017-04-05</th>\n",
       "      <td>1133.079314</td>\n",
       "    </tr>\n",
       "    <tr>\n",
       "      <th>2017-04-06</th>\n",
       "      <td>1196.307937</td>\n",
       "    </tr>\n",
       "  </tbody>\n",
       "</table>\n",
       "</div>"
      ],
      "text/plain": [
       "                  Price\n",
       "Timestamp              \n",
       "2017-04-02  1099.169125\n",
       "2017-04-03  1141.813000\n",
       "2017-04-04  1141.600363\n",
       "2017-04-05  1133.079314\n",
       "2017-04-06  1196.307937"
      ]
     },
     "execution_count": 132,
     "metadata": {},
     "output_type": "execute_result"
    }
   ],
   "source": [
    "DF.head()"
   ]
  },
  {
   "cell_type": "code",
   "execution_count": 133,
   "id": "2861497f",
   "metadata": {
    "scrolled": true
   },
   "outputs": [
    {
     "data": {
      "text/html": [
       "<div>\n",
       "<style scoped>\n",
       "    .dataframe tbody tr th:only-of-type {\n",
       "        vertical-align: middle;\n",
       "    }\n",
       "\n",
       "    .dataframe tbody tr th {\n",
       "        vertical-align: top;\n",
       "    }\n",
       "\n",
       "    .dataframe thead th {\n",
       "        text-align: right;\n",
       "    }\n",
       "</style>\n",
       "<table border=\"1\" class=\"dataframe\">\n",
       "  <thead>\n",
       "    <tr style=\"text-align: right;\">\n",
       "      <th></th>\n",
       "      <th>Price</th>\n",
       "    </tr>\n",
       "    <tr>\n",
       "      <th>Timestamp</th>\n",
       "      <th></th>\n",
       "    </tr>\n",
       "  </thead>\n",
       "  <tbody>\n",
       "    <tr>\n",
       "      <th>2017-04-02</th>\n",
       "      <td>1099.169125</td>\n",
       "    </tr>\n",
       "    <tr>\n",
       "      <th>2017-04-03</th>\n",
       "      <td>1141.813000</td>\n",
       "    </tr>\n",
       "    <tr>\n",
       "      <th>2017-04-04</th>\n",
       "      <td>1141.600363</td>\n",
       "    </tr>\n",
       "    <tr>\n",
       "      <th>2017-04-05</th>\n",
       "      <td>1133.079314</td>\n",
       "    </tr>\n",
       "    <tr>\n",
       "      <th>2017-04-06</th>\n",
       "      <td>1196.307937</td>\n",
       "    </tr>\n",
       "  </tbody>\n",
       "</table>\n",
       "</div>"
      ],
      "text/plain": [
       "                  Price\n",
       "Timestamp              \n",
       "2017-04-02  1099.169125\n",
       "2017-04-03  1141.813000\n",
       "2017-04-04  1141.600363\n",
       "2017-04-05  1133.079314\n",
       "2017-04-06  1196.307937"
      ]
     },
     "execution_count": 133,
     "metadata": {},
     "output_type": "execute_result"
    }
   ],
   "source": [
    "DF.head()"
   ]
  },
  {
   "cell_type": "markdown",
   "id": "7bb51b3f",
   "metadata": {},
   "source": [
    "Podemos graficar"
   ]
  },
  {
   "cell_type": "code",
   "execution_count": 134,
   "id": "ab2eedee",
   "metadata": {},
   "outputs": [
    {
     "data": {
      "text/plain": [
       "<AxesSubplot:xlabel='Timestamp'>"
      ]
     },
     "execution_count": 134,
     "metadata": {},
     "output_type": "execute_result"
    },
    {
     "data": {
      "image/png": "[encoded data removed]",
      "text/plain": [
       "<Figure size 640x480 with 1 Axes>"
      ]
     },
     "metadata": {},
     "output_type": "display_data"
    }
   ],
   "source": [
    "DF.plot()"
   ]
  }
 ],
 "metadata": {
  "kernelspec": {
   "display_name": "Python 3 (ipykernel)",
   "language": "python",
   "name": "python3"
  },
  "language_info": {
   "codemirror_mode": {
    "name": "ipython",
    "version": 3
   },
   "file_extension": ".py",
   "mimetype": "text/x-python",
   "name": "python",
   "nbconvert_exporter": "python",
   "pygments_lexer": "ipython3",
   "version": "3.9.13"
  }
 },
 "nbformat": 4,
 "nbformat_minor": 5
}
